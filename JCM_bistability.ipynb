{
 "cells": [
  {
   "cell_type": "code",
   "execution_count": 89,
   "id": "809e933b",
   "metadata": {},
   "outputs": [],
   "source": [
    "from qutip import * \n",
    "import numpy as np\n",
    "import matplotlib.pyplot as plt"
   ]
  },
  {
   "cell_type": "code",
   "execution_count": 90,
   "id": "7a00b673",
   "metadata": {},
   "outputs": [],
   "source": [
    "Nph = 80\n",
    "\n",
    "om_c = 1.\n",
    "om_q = 1.\n",
    "g = .2\n",
    "gamma = .2\n",
    "kappa = .04\n",
    "\n",
    "a = tensor(destroy(Nph), qeye(2))\n",
    "sigma = tensor(qeye(Nph), destroy(2))\n",
    "\n",
    "H = om_c*a.dag()*a + om_q*sigma.dag()*sigma + g*( sigma*a.dag() + sigma.dag()*a )\n",
    "\n",
    "evals,evecs = H.eigenstates(sort='low')"
   ]
  },
  {
   "cell_type": "code",
   "execution_count": 91,
   "id": "d7b2a5d3",
   "metadata": {},
   "outputs": [],
   "source": [
    "iter_omL = 1\n",
    "omL0 = 1.\n",
    "domL = (1.5-omL0)/iter_omL\n",
    "\n",
    "iter_I = 11\n",
    "I0 = 0.01\n",
    "dI = (.4 - I0)/iter_I\n",
    "\n",
    "mat_N_avg = []\n",
    "arr_omL = []\n",
    "\n",
    "for n_omL in range(iter_omL):\n",
    "    omL = omL0 + n_omL*domL\n",
    "    arr_N_avg = []\n",
    "    arr_I = []\n",
    "    for n_I in range(iter_I):\n",
    "        I = I0 + n_I*dI\n",
    "\n",
    "        Hdriven = H - omL*( a.dag()*a + sigma.dag()*sigma ) + I*( a + a.dag() )\n",
    "        rho_ss = steadystate(Hdriven, [np.sqrt(gamma/2.)*a,np.sqrt(kappa/2.)*sigma])\n",
    "        \n",
    "        arr_N_avg.append( np.abs(expect( a, rho_ss)) )\n",
    "        arr_I.append(I)\n",
    "    arr_omL.append(omL)\n",
    "    mat_N_avg.append( np.asarray(arr_N_avg) )\n",
    "      \n"
   ]
  },
  {
   "cell_type": "code",
   "execution_count": 94,
   "id": "e1566b5f",
   "metadata": {},
   "outputs": [
    {
     "data": {
      "image/png": "[encoded data removed]",
      "text/plain": [
       "<Figure size 576x576 with 1 Axes>"
      ]
     },
     "metadata": {
      "needs_background": "light"
     },
     "output_type": "display_data"
    }
   ],
   "source": [
    "plt.figure(figsize=(8,8))\n",
    "plt.plot( arr_I, gamma/4.*np.divide(mat_N_avg[0], arr_I)  )\n",
    "plt.grid()\n",
    "plt.axis([0, .3, 0, 1])\n",
    "font = {'family': 'serif',\n",
    "        'color':  'darkred',\n",
    "        'weight': 'normal',\n",
    "        'size': 26,\n",
    "        }\n",
    "plt.xlabel('I', fontdict=font)\n",
    "plt.ylabel('Photon Number', fontdict=font)\n",
    "plt.show()\n"
   ]
  },
  {
   "cell_type": "code",
   "execution_count": 71,
   "id": "70ca7952",
   "metadata": {},
   "outputs": [
    {
     "name": "stdout",
     "output_type": "stream",
     "text": [
      "(1, 51) (1, 51) (1, 51)\n"
     ]
    },
    {
     "data": {
      "image/png": "[encoded data removed]",
      "text/plain": [
       "<Figure size 432x288 with 1 Axes>"
      ]
     },
     "metadata": {
      "needs_background": "light"
     },
     "output_type": "display_data"
    }
   ],
   "source": [
    "from matplotlib import cm\n",
    "from matplotlib.ticker import LinearLocator\n",
    "\n",
    "#fig, ax = plt.subplots(subplot_kw={\"projection\": \"3d\"})\n",
    "\n",
    "# Make data.\n",
    "Y = np.asarray(arr_omL)\n",
    "X = np.asarray(arr_I)\n",
    "X, Y = np.meshgrid(X, Y)\n",
    "Z = np.asarray(mat_N_avg)\n",
    "print(X.shape, Y.shape, Z.shape)\n",
    "\n",
    "plt.pcolor(X, Y, Z)\n",
    "plt.show()\n",
    "\n",
    "# Plot the surface.\n",
    "#surf = ax.plot_surface(X, Y, Z, cmap=cm.coolwarm,\n",
    "                       #linewidth=0, antialiased=False)\n",
    "\n",
    "# Customize the z axis.\n",
    "#ax.set_zlim(0.0, 10.)\n",
    "#ax.zaxis.set_major_locator(LinearLocator(10))\n",
    "# A StrMethodFormatter is used automatically\n",
    "#ax.zaxis.set_major_formatter('{x:.02f}')\n",
    "\n",
    "# Add a color bar which maps values to colors.\n",
    "#fig.colorbar(surf, shrink=0.5, aspect=5)\n",
    "\n",
    "#plt.show()\n"
   ]
  },
  {
   "cell_type": "code",
   "execution_count": null,
   "id": "4d3ac61f",
   "metadata": {},
   "outputs": [],
   "source": []
  },
  {
   "cell_type": "code",
   "execution_count": null,
   "id": "ee622db0",
   "metadata": {},
   "outputs": [],
   "source": []
  },
  {
   "cell_type": "code",
   "execution_count": null,
   "id": "ebfd50ec",
   "metadata": {},
   "outputs": [],
   "source": [
    " \"\"\"    \n",
    "        #Wigner function\n",
    "        x_vec = np.arange(-5,5,.1)\n",
    "        y_vec = x_vec\n",
    "        Wf = wigner(rho_ph, x_vec, y_vec )\n",
    "        wtitle = \"wdata_%d\" % countw\n",
    "        p_w = open(\"data/wigner/%s.dat\" % (wtitle), \"w\")\n",
    "        nx = 0\n",
    "        for x in x_vec:\n",
    "            ny = 0\n",
    "            for y in y_vec:\n",
    "                p_w.write(\"%f %f %f\\n\" % (x, y, Wf[nx,ny]) )\n",
    "                ny += 1\n",
    "            p_w.write(\"\\n\")\n",
    "            p_w.flush()\n",
    "            nx += 1\n",
    "        p_w.close()\n",
    "        \"\"\"\n",
    "        \n",
    "        \n",
    "        #Spin Q fun\n",
    "        n_sample = 40.\n",
    "        phi_vec = np.arange(-np.pi, np.pi+2*np.pi/100., 2*np.pi/n_sample )\n",
    "        theta_vec = np.arange(0, np.pi+np.pi/100., np.pi/n_sample )\n",
    "        stitle = \"sdata_%d\" % countw\n",
    "        p_s = open(\"data/wigner/%s.dat\" % (stitle), \"w\")\n",
    "        for theta in theta_vec:\n",
    "            for phi in phi_vec:\n",
    "                state_n = spin_coherent(1./2., theta, phi, type='ket')\n",
    "                Qfun = expect( rho_s, state_n ) \n",
    "                p_s.write(\"%f %f %f\\n\" % (phi, theta, Qfun.real))\n",
    "                p_s.flush()\n",
    "            p_s.write(\"\\n\")\n",
    "            p_s.flush()\n",
    "            \n",
    "\"\"\"\n",
    "plt.figure(figsize=(8,8))\n",
    "plt.plot( arr_I, N_avg  )\n",
    "plt.grid()\n",
    "#plt.axis([0, range(M), 0, 10])\n",
    "font = {'family': 'serif',\n",
    "        'color':  'darkred',\n",
    "        'weight': 'normal',\n",
    "        'size': 26,\n",
    "        }\n",
    "plt.xlabel('I', fontdict=font)\n",
    "plt.ylabel('Photon Number', fontdict=font)\n",
    "plt.show()\n",
    "\"\"\""
   ]
  }
 ],
 "metadata": {
  "kernelspec": {
   "display_name": "Python 3",
   "language": "python",
   "name": "python3"
  },
  "language_info": {
   "codemirror_mode": {
    "name": "ipython",
    "version": 3
   },
   "file_extension": ".py",
   "mimetype": "text/x-python",
   "name": "python",
   "nbconvert_exporter": "python",
   "pygments_lexer": "ipython3",
   "version": "3.7.4"
  }
 },
 "nbformat": 4,
 "nbformat_minor": 5
}
