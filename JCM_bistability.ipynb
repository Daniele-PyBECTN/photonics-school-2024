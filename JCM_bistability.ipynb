{
 "cells": [
  {
   "cell_type": "markdown",
   "id": "f01882a1",
   "metadata": {},
   "source": [
    "# Cavity QED bistability: driven dissipative Jaynes-Cummings model\n",
    "\n",
    "\n",
    "We wish to investigate a single atom in a optical cavity, where the cavity is continuosly driven by an external laser source.\n",
    "The frequency of the laser $\\omega_L$ can be tuned, as well as its intensity $I_L$. \n",
    "While for very weak laser intensity we expect that the steady-state properties are well described by linear response theory, at large laser intensities the cavity is filled by photons that can eventually saturate the atomic transition, described for simplicity by a two-level system (TLS).\n",
    "In such situation, we expect to enter in a strongly non-linear regime, with possible unexpected quantum phenomena.\n",
    "\n",
    "A basics understanding of this problem is provided by solving the Jaynes-Cummings model in a open quantum system framework.\n",
    "The Hamiltonian is ($\\hbar=1$)\n",
    "$$\n",
    "H_{\\rm JC} = \\omega_c a^{\\dagger} a + \\omega_q\\sigma_+\\sigma_- + \\frac{g}{2}\\left( a\\sigma_+ + a^{\\dagger}\\sigma_-\\right).\n",
    "$$\n",
    "In order to simulate the driven-dissipative experiment we can use three different frameworks: \n",
    "    \n",
    "    1) Langevin equations (also called input-output formalism), \n",
    "$$\n",
    "i\\partial_t a = \\left(\\omega_c - i\\frac{\\gamma}{2}\\right) a + \\frac{g}{2}\\sigma_- + I_L e^{-i\\omega_L t} + b_{\\rm in}\n",
    "$$\n",
    "$$\n",
    "i\\partial_t \\sigma_- = \\left(\\omega_q - i\\frac{\\kappa}{2} \\right)\\sigma_- + \\frac{g}{2}\\sigma_z a + \\sigma_z\\sigma_{\\rm in}\n",
    "$$\n",
    "$$\n",
    "\\partial_t \\sigma_z = \\frac{g}{2}\\left(a \\sigma_+ - a^{\\dagger}\\sigma_- \\right) - i\\frac{\\kappa}{2}\\left( \\sigma_z +\\frac{1}{2} \\right)\n",
    "$$\n",
    "\n",
    "    2) master equation\n",
    "$$\n",
    "\\partial_t \\rho = -i\\left[H_{\\rm JC}+H_{\\rm drive}, \\rho\\right] + \\frac{\\gamma}{2}\\left( 2a\\rho a^{\\dagger} - \\frac{1}{2}\\lbrace{ a^{\\dagger}a, \\rho\\rbrace} \\right) + \\frac{\\kappa}{2}\\left( 2\\sigma_-\\rho \\sigma_+ - \\frac{1}{2}\\lbrace{ \\sigma_+\\sigma_-, \\rho\\rbrace} \\right)\n",
    "$$\n",
    "       where $H_{\\rm drive} = I_L \\left( a e^{i\\omega_L t} + a^{\\dagger}e^{-i\\omega_L t} \\right)$\n",
    "    \n",
    "    3) stochastic Schrodinger equation. (...)\n",
    "\n",
    "\n",
    "Before diving in the full quantum problem, by solving 2) and 3), we want to develop a basic understanding by solving 1) with a semi-classical approximation: the mean-field method.\n",
    "The procedure is as follows:\n",
    "we assume that the system is in a steady state described by a density matrix $\\rho$. We take the expectation value of Eqs. 1) over this state, and using the steady state properties for which $\\partial_t\\langle{A\\rangle} = 0$ (for every operator $A$) we obtain\n",
    "$$\n",
    "0 = \\left(\\omega_c - i\\frac{\\gamma}{2}\\right) \\langle{a\\rangle} + \\frac{g}{2}\\langle{\\sigma_-\\rangle} + I_L e^{-i\\omega_L t}\n",
    "$$\n",
    "$$\n",
    "0 = \\left(\\omega_q - i\\frac{\\kappa}{2} \\right)\\langle{\\sigma_-\\rangle} + \\frac{g}{2}\\langle{\\sigma_z a \\rangle}\n",
    "$$\n",
    "$$\n",
    "0 = \\frac{g}{2}\\left( \\langle{a \\sigma_+\\rangle} - \\langle{a^{\\dagger}\\sigma_-\\rangle} \\right) - i\\frac{\\kappa}{2}\\left( \\langle{\\sigma_z\\rangle} + \\frac{1}{2} \\right)\n",
    "$$\n",
    "We notice that in this equations appear the expectation values of product of operators, such that $\\langle{\\sigma_z a \\rangle}$ and $\\langle{a \\sigma_+\\rangle}$. In principle we could derive other Langevin equations also for these quantities, but in this equations there would be present expectation values of higher order products, ending up in an infinite set of coupled equations. In order to be able to solve these equations we need to cut this chain, breaking the hierarchy. That's why we deliberatly assume that each expectation value of products factorize in product of expectation values, like $\\langle{\\sigma_z a \\rangle}\\simeq \\langle{\\sigma_z\\rangle} \\langle{ a \\rangle}. $\n",
    "After a few simple passages and a slightly tricky assumptions (rotating frame and $\\sigma_z$ weak dependence), we are left with\n",
    "$$\n",
    "\\left(\\Delta_c - i\\frac{\\gamma}{2}\\right)\\langle{ a \\rangle} + \\frac{g^2}{4\\left(\\Delta_q - i\\frac{\\kappa}{2}\\right)} \\frac{ \\langle{ a \\rangle} }{1+\\frac{g^2}{|\\Delta_q - i\\kappa/2|^2}|\\langle{ a \\rangle}|^2} = I_L\n",
    "$$\n",
    "\n",
    "In resonance $\\Delta_c = \\Delta_q = 0$ this equation takes the simple form\n",
    "$$\n",
    "\\langle{ a \\rangle} + C \\frac{ \\langle{ a \\rangle} }{1+\\frac{|\\langle{ a \\rangle}|^2}{n_s}} = \\alpha_L\n",
    "$$\n",
    "where $\\alpha_L = i2I_L/\\gamma$ is the laser effective amplitude, $C=\\frac{g^2}{\\gamma\\kappa}$ is called cooperativity and $n_s = \\kappa^2/(4g^2)$ is the saturation number.\n",
    "We can easily make a plot out of this equation to visualize how the steady-state photon amplitude beahves as a function of the external driving strength."
   ]
  },
  {
   "cell_type": "code",
   "execution_count": 81,
   "id": "d82c3f1e",
   "metadata": {},
   "outputs": [
    {
     "data": {
      "image/png": "[encoded data removed]",
      "text/plain": [
       "<Figure size 576x576 with 1 Axes>"
      ]
     },
     "metadata": {
      "needs_background": "light"
     },
     "output_type": "display_data"
    }
   ],
   "source": [
    "import numpy as np\n",
    "import matplotlib.pyplot as plt\n",
    "\n",
    "ns = .1\n",
    "C = 20.\n",
    "\n",
    "a = np.linspace(0.001, 5, 101)\n",
    "alpha_L = a + C*a/(1+np.square(np.abs(a))/ns )\n",
    "\n",
    "\n",
    "plt.figure(figsize=(8,8))\n",
    "plt.plot( alpha_L, a  )\n",
    "plt.grid()\n",
    "plt.axis([0, 5, 0, 5])\n",
    "plt.xlabel('alpha_L', fontdict=font)\n",
    "plt.ylabel('Photon amplitude', fontdict=font)\n",
    "plt.show()"
   ]
  },
  {
   "cell_type": "code",
   "execution_count": null,
   "id": "3d00288b",
   "metadata": {},
   "outputs": [],
   "source": []
  },
  {
   "cell_type": "code",
   "execution_count": 69,
   "id": "809e933b",
   "metadata": {},
   "outputs": [],
   "source": [
    "from qutip import * \n",
    "import numpy as np\n",
    "import matplotlib.pyplot as plt"
   ]
  },
  {
   "cell_type": "code",
   "execution_count": 77,
   "id": "7a00b673",
   "metadata": {},
   "outputs": [
    {
     "name": "stdout",
     "output_type": "stream",
     "text": [
      "0.1264911064067352 0.015811388300841896\n"
     ]
    }
   ],
   "source": [
    "Nph = 100\n",
    "\n",
    "om_c = 1.\n",
    "om_q = 1.\n",
    "g = .2\n",
    "kappa = np.sqrt(4.*g**2. * ns)\n",
    "gamma = g**2./kappa/C\n",
    "\n",
    "print(kappa, gamma)\n",
    "\n",
    "a = tensor(destroy(Nph), qeye(2))\n",
    "sigma = tensor(qeye(Nph), destroy(2))\n",
    "\n",
    "H = om_c*a.dag()*a + om_q*sigma.dag()*sigma + .5*g*( sigma*a.dag() + sigma.dag()*a )\n",
    "\n",
    "evals,evecs = H.eigenstates(sort='low')"
   ]
  },
  {
   "cell_type": "code",
   "execution_count": 78,
   "id": "d7b2a5d3",
   "metadata": {},
   "outputs": [],
   "source": [
    "iter_omL = 1\n",
    "omL0 = 1.\n",
    "domL = (1.6-omL0)/iter_omL\n",
    "\n",
    "iter_I = 21\n",
    "I0 = 0.001\n",
    "dI = ( (gamma/2.) * 5. - I0)/iter_I\n",
    "\n",
    "mat_N_avg = []\n",
    "arr_omL = []\n",
    "\n",
    "for n_omL in range(iter_omL):\n",
    "    omL = omL0 + n_omL*domL\n",
    "    arr_N_avg = []\n",
    "    arr_alpha_L = []\n",
    "    for n_I in range(iter_I):\n",
    "        I = I0 + n_I*dI\n",
    "\n",
    "        Hdriven = H - omL*( a.dag()*a + sigma.dag()*sigma ) + I*( a + a.dag() )\n",
    "        rho_ss = steadystate(Hdriven, [np.sqrt(gamma/2.)*a,np.sqrt(kappa/2.)*sigma])\n",
    "        \n",
    "        arr_N_avg.append( np.abs(expect( a, rho_ss)) )\n",
    "        arr_alpha_L.append(2.*I/gamma)\n",
    "    arr_omL.append(omL)\n",
    "    mat_N_avg.append( np.asarray(arr_N_avg) )\n",
    "      \n"
   ]
  },
  {
   "cell_type": "code",
   "execution_count": 79,
   "id": "e1566b5f",
   "metadata": {},
   "outputs": [
    {
     "data": {
      "image/png": "[encoded data removed]",
      "text/plain": [
       "<Figure size 576x576 with 1 Axes>"
      ]
     },
     "metadata": {
      "needs_background": "light"
     },
     "output_type": "display_data"
    }
   ],
   "source": [
    "plt.figure(figsize=(8,8))\n",
    "plt.plot( arr_alpha_L, mat_N_avg[0]  )\n",
    "plt.grid()\n",
    "plt.axis([0, 5., 0, 10])\n",
    "plt.xlabel('alpha_L', fontdict=font)\n",
    "plt.ylabel('Photon Number', fontdict=font)\n",
    "plt.show()\n"
   ]
  },
  {
   "cell_type": "code",
   "execution_count": 19,
   "id": "70ca7952",
   "metadata": {},
   "outputs": [
    {
     "name": "stdout",
     "output_type": "stream",
     "text": [
      "(11, 11) (11, 11) (11, 11)\n"
     ]
    },
    {
     "data": {
      "image/png": "[encoded data removed]",
      "text/plain": [
       "<Figure size 432x288 with 1 Axes>"
      ]
     },
     "metadata": {
      "needs_background": "light"
     },
     "output_type": "display_data"
    }
   ],
   "source": [
    "from matplotlib import cm\n",
    "from matplotlib.ticker import LinearLocator\n",
    "\n",
    "#fig, ax = plt.subplots(subplot_kw={\"projection\": \"3d\"})\n",
    "\n",
    "# Make data.\n",
    "Y = np.asarray(arr_omL)\n",
    "X = np.asarray(arr_I)\n",
    "X, Y = np.meshgrid(X, Y)\n",
    "Z = np.asarray(mat_N_avg)\n",
    "print(X.shape, Y.shape, Z.shape)\n",
    "\n",
    "plt.pcolor(X, Y, Z)\n",
    "plt.show()\n",
    "\n",
    "# Plot the surface.\n",
    "#surf = ax.plot_surface(X, Y, Z, cmap=cm.coolwarm,\n",
    "                       #linewidth=0, antialiased=False)\n",
    "\n",
    "# Customize the z axis.\n",
    "#ax.set_zlim(0.0, 10.)\n",
    "#ax.zaxis.set_major_locator(LinearLocator(10))\n",
    "# A StrMethodFormatter is used automatically\n",
    "#ax.zaxis.set_major_formatter('{x:.02f}')\n",
    "\n",
    "# Add a color bar which maps values to colors.\n",
    "#fig.colorbar(surf, shrink=0.5, aspect=5)\n",
    "\n",
    "#plt.show()\n"
   ]
  },
  {
   "cell_type": "code",
   "execution_count": null,
   "id": "4d3ac61f",
   "metadata": {},
   "outputs": [],
   "source": []
  },
  {
   "cell_type": "code",
   "execution_count": null,
   "id": "ee622db0",
   "metadata": {},
   "outputs": [],
   "source": []
  },
  {
   "cell_type": "code",
   "execution_count": 20,
   "id": "ebfd50ec",
   "metadata": {},
   "outputs": [
    {
     "ename": "IndentationError",
     "evalue": "unexpected indent (<ipython-input-20-2ab536578e37>, line 22)",
     "output_type": "error",
     "traceback": [
      "\u001b[0;36m  File \u001b[0;32m\"<ipython-input-20-2ab536578e37>\"\u001b[0;36m, line \u001b[0;32m22\u001b[0m\n\u001b[0;31m    n_sample = 40.\u001b[0m\n\u001b[0m    ^\u001b[0m\n\u001b[0;31mIndentationError\u001b[0m\u001b[0;31m:\u001b[0m unexpected indent\n"
     ]
    }
   ],
   "source": [
    " \"\"\"    \n",
    "        #Wigner function\n",
    "        x_vec = np.arange(-5,5,.1)\n",
    "        y_vec = x_vec\n",
    "        Wf = wigner(rho_ph, x_vec, y_vec )\n",
    "        wtitle = \"wdata_%d\" % countw\n",
    "        p_w = open(\"data/wigner/%s.dat\" % (wtitle), \"w\")\n",
    "        nx = 0\n",
    "        for x in x_vec:\n",
    "            ny = 0\n",
    "            for y in y_vec:\n",
    "                p_w.write(\"%f %f %f\\n\" % (x, y, Wf[nx,ny]) )\n",
    "                ny += 1\n",
    "            p_w.write(\"\\n\")\n",
    "            p_w.flush()\n",
    "            nx += 1\n",
    "        p_w.close()\n",
    "        \"\"\"\n",
    "        \n",
    "        \n",
    "        #Spin Q fun\n",
    "        n_sample = 40.\n",
    "        phi_vec = np.arange(-np.pi, np.pi+2*np.pi/100., 2*np.pi/n_sample )\n",
    "        theta_vec = np.arange(0, np.pi+np.pi/100., np.pi/n_sample )\n",
    "        stitle = \"sdata_%d\" % countw\n",
    "        p_s = open(\"data/wigner/%s.dat\" % (stitle), \"w\")\n",
    "        for theta in theta_vec:\n",
    "            for phi in phi_vec:\n",
    "                state_n = spin_coherent(1./2., theta, phi, type='ket')\n",
    "                Qfun = expect( rho_s, state_n ) \n",
    "                p_s.write(\"%f %f %f\\n\" % (phi, theta, Qfun.real))\n",
    "                p_s.flush()\n",
    "            p_s.write(\"\\n\")\n",
    "            p_s.flush()\n",
    "            \n",
    "\"\"\"\n",
    "plt.figure(figsize=(8,8))\n",
    "plt.plot( arr_I, N_avg  )\n",
    "plt.grid()\n",
    "#plt.axis([0, range(M), 0, 10])\n",
    "font = {'family': 'serif',\n",
    "        'color':  'darkred',\n",
    "        'weight': 'normal',\n",
    "        'size': 26,\n",
    "        }\n",
    "plt.xlabel('I', fontdict=font)\n",
    "plt.ylabel('Photon Number', fontdict=font)\n",
    "plt.show()\n",
    "\"\"\""
   ]
  }
 ],
 "metadata": {
  "kernelspec": {
   "display_name": "Python 3",
   "language": "python",
   "name": "python3"
  },
  "language_info": {
   "codemirror_mode": {
    "name": "ipython",
    "version": 3
   },
   "file_extension": ".py",
   "mimetype": "text/x-python",
   "name": "python",
   "nbconvert_exporter": "python",
   "pygments_lexer": "ipython3",
   "version": "3.7.4"
  }
 },
 "nbformat": 4,
 "nbformat_minor": 5
}
